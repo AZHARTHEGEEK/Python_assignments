{
 "cells": [
  {
   "cell_type": "markdown",
   "metadata": {},
   "source": [
    "# PYTHON  ASSIGNMENT 3"
   ]
  },
  {
   "cell_type": "markdown",
   "metadata": {},
   "source": [
    "# 1.Make a calculator using Python with addition , subtraction , multiplication ,division and power."
   ]
  },
  {
   "cell_type": "markdown",
   "metadata": {},
   "source": [
    "FIRST METHOD SIMPLE"
   ]
  },
  {
   "cell_type": "code",
   "execution_count": 1,
   "metadata": {},
   "outputs": [
    {
     "name": "stdout",
     "output_type": "stream",
     "text": [
      "In order to perform operation between Two Whole Numbers select.\n",
      "1.Addition\n",
      "2.Subtraction\n",
      "3.Multiplication\n",
      "4.Division\n",
      "5.Power\n",
      "\n",
      "Enter choice(1/2/3/4/5): 5\n",
      "\n",
      "\n",
      "Enter First Integar Number: 5\n",
      "Enter Second Integar Number: 5\n",
      "\n",
      " 5.0 ^ 5.0 = 3125.0\n"
     ]
    }
   ],
   "source": [
    "print(\"In order to perform operation between Two Whole Numbers select.\")\n",
    "print(\"1.Addition\")\n",
    "print(\"2.Subtraction\")\n",
    "print(\"3.Multiplication\")\n",
    "print(\"4.Division\")\n",
    "print(\"5.Power\\n\")\n",
    "\n",
    "c = input(\"Enter choice(1/2/3/4/5): \")\n",
    "print(\"\\n\")\n",
    "num1 = float(input(\"Enter First Integar Number: \"))\n",
    "num2 = float(input(\"Enter Second Integar Number: \"))\n",
    "\n",
    "if c == '1':\n",
    "   print(\"\\n\",num1,\"+\",num2,\"=\", (num1+num2))\n",
    "elif c == '2':\n",
    "   print(\"\\n\",num1,\"-\",num2,\"=\", (num1-num2))\n",
    "elif c == '3':\n",
    "   print(\"\\n\",num1,\"*\",num2,\"=\", (num1*num2))\n",
    "elif c == '4':\n",
    "   print(\"\\n\",num1,\"/\",num2,\"=\", (num1//num2))\n",
    "elif c == '5':\n",
    "   print(\"\\n\",num1,\"^\",num2,\"=\", (num1**num2))\n",
    "else:\n",
    "   print(\"\\nInvalid input\")"
   ]
  },
  {
   "cell_type": "markdown",
   "metadata": {},
   "source": [
    "SECOND METHOD USING FUNCTION"
   ]
  },
  {
   "cell_type": "code",
   "execution_count": 5,
   "metadata": {},
   "outputs": [
    {
     "name": "stdout",
     "output_type": "stream",
     "text": [
      "In order to perform operation between Two Whole Numbers select.\n",
      "1.Addition\n",
      "2.Subtraction\n",
      "3.Multiplication\n",
      "4.Division\n",
      "5.Power\n",
      "\n",
      "Enter choice(1/2/3/4/5): 2\n",
      "\n",
      "\n",
      "Enter First Integar Number: 69\n",
      "Enter Second Integar Number: 4\n",
      "\n",
      " 69.0 - 4.0 = 65.0\n"
     ]
    }
   ],
   "source": [
    "# This function adds two numbers \n",
    "def add(x, y):\n",
    "   return x + y\n",
    "# This function subtracts two numbers \n",
    "def subtract(x, y):\n",
    "   return x - y\n",
    "# This function multiplies two numbers\n",
    "def multiply(x, y):\n",
    "   return x * y\n",
    "# This function divides two numbers\n",
    "def divide(x, y):\n",
    "   return x // y\n",
    "# This function return power of a number\n",
    "def power(x, y):\n",
    "   return x ** y\n",
    "print(\"In order to perform operation between Two Whole Numbers select.\")\n",
    "print(\"1.Addition\")\n",
    "print(\"2.Subtraction\")\n",
    "print(\"3.Multiplication\")\n",
    "print(\"4.Division\")\n",
    "print(\"5.Power\\n\")\n",
    "\n",
    "c = input(\"Enter choice(1/2/3/4/5): \")\n",
    "print(\"\\n\")\n",
    "num1 = float(input(\"Enter First Integar Number: \"))\n",
    "num2 = float(input(\"Enter Second Integar Number: \"))\n",
    "\n",
    "if c == '1':\n",
    "   print(\"\\n\",num1,\"+\",num2,\"=\", add(num1,num2))\n",
    "elif c == '2':\n",
    "   print(\"\\n\",num1,\"-\",num2,\"=\", subtract(num1,num2))\n",
    "elif c == '3':\n",
    "   print(\"\\n\",num1,\"*\",num2,\"=\", multiply(num1,num2))\n",
    "elif c == '4':\n",
    "   print(\"\\n\",num1,\"/\",num2,\"=\", divide(num1,num2))\n",
    "elif c == '5':\n",
    "   print(\"\\n\",num1,\"^\",num2,\"=\", power(num1,num2))\n",
    "else:\n",
    "   print(\"\\nInvalid input\")"
   ]
  },
  {
   "cell_type": "markdown",
   "metadata": {},
   "source": [
    "# 2.Write a program to check if there is any numeric value in list using for loop"
   ]
  },
  {
   "cell_type": "code",
   "execution_count": 26,
   "metadata": {},
   "outputs": [
    {
     "name": "stdout",
     "output_type": "stream",
     "text": [
      "This is numeric value : 1\n",
      "This is not numeric:  M_AZHAR\n",
      "This is numeric value : 2\n",
      "This is not numeric:  B\n",
      "This is numeric value : 9\n",
      "This is not numeric:  c\n"
     ]
    }
   ],
   "source": [
    "list= [1,\"M_AZHAR\",2,\"B\",9,\"c\"]\n",
    "for a in list:\n",
    "    if type(a) == int:\n",
    "        print(\"This is numeric value :\",a)  #print(f\"This is numeric value: {a}\")\n",
    "    else:\n",
    "        print(\"This is not numeric: \",a) #print(f\"This is not numeric: {a}\")"
   ]
  },
  {
   "cell_type": "markdown",
   "metadata": {},
   "source": [
    "# 3.Write a Python script to add a key to a dictionary"
   ]
  },
  {
   "cell_type": "code",
   "execution_count": 23,
   "metadata": {},
   "outputs": [
    {
     "name": "stdout",
     "output_type": "stream",
     "text": [
      "{'key': 'value', 0: 50, 1: 20}\n",
      "\n",
      " {'key': 'value', 0: 50, 1: 20, 'M_AZHAR': 69}\n"
     ]
    }
   ],
   "source": [
    "d = {'key':'value',0:50, 1:20}\n",
    "print(d)\n",
    "d['M_AZHAR'] = 69\n",
    "print(\"\\n\",d)\n"
   ]
  },
  {
   "cell_type": "markdown",
   "metadata": {},
   "source": [
    "# 4.Write a Python program to sum all the numeric items in a dictionary"
   ]
  },
  {
   "cell_type": "markdown",
   "metadata": {},
   "source": [
    "FIRST METHOD SIMPLE"
   ]
  },
  {
   "cell_type": "code",
   "execution_count": 32,
   "metadata": {},
   "outputs": [
    {
     "name": "stdout",
     "output_type": "stream",
     "text": [
      "Sum : 165\n"
     ]
    }
   ],
   "source": [
    "sum=0\n",
    "dict = {'a': 50, 'b': 69, 'c':46} \n",
    "for i in dict: \n",
    "        sum = sum + dict[i]\n",
    "print(\"Sum :\", sum )"
   ]
  },
  {
   "cell_type": "markdown",
   "metadata": {},
   "source": [
    "SECOND METHOD USING FUNCTION"
   ]
  },
  {
   "cell_type": "code",
   "execution_count": 37,
   "metadata": {},
   "outputs": [
    {
     "name": "stdout",
     "output_type": "stream",
     "text": [
      "Sum : 165\n"
     ]
    }
   ],
   "source": [
    "def returnSum(dict): \n",
    "    sum = 0\n",
    "    for i in dict:\n",
    "        sum = sum + dict[i]\n",
    "    return sum\n",
    "\n",
    "dict = {'a': 50, 'b':69, 'c':46} \n",
    "print(\"Sum :\", returnSum(dict)) "
   ]
  },
  {
   "cell_type": "markdown",
   "metadata": {},
   "source": [
    "# 5.Write a program to identify duplicate values from list"
   ]
  },
  {
   "cell_type": "code",
   "execution_count": 38,
   "metadata": {},
   "outputs": [
    {
     "name": "stdout",
     "output_type": "stream",
     "text": [
      "[3, 9, 12]\n"
     ]
    }
   ],
   "source": [
    "lst = [ 3, 6, 9, 12, 3, 30, 15, 9, 45, 36, 12, 12]\n",
    "dupItems = []\n",
    "uniqItems = {}\n",
    "for x in lst:\n",
    "   if x not in uniqItems:\n",
    "      uniqItems[x] = 1\n",
    "   else:\n",
    "      if uniqItems[x] == 1:\n",
    "         dupItems.append(x)\n",
    "      uniqItems[x] += 1\n",
    "print(dupItems)"
   ]
  },
  {
   "cell_type": "markdown",
   "metadata": {},
   "source": [
    "# 6.Write a Python script to check if a given key already exists in a dictionary"
   ]
  },
  {
   "cell_type": "code",
   "execution_count": 40,
   "metadata": {},
   "outputs": [
    {
     "name": "stdout",
     "output_type": "stream",
     "text": [
      "Key is present in the dictionary\n",
      "\n",
      "\n",
      "Key is not present in the dictionary\n"
     ]
    }
   ],
   "source": [
    "d = {1: 10, 2: 20, 3: 30, 4: 40, 5: 50, 6: 60}\n",
    "def is_key_present(x):\n",
    "  if x in d:\n",
    "      print('Key is present in the dictionary')\n",
    "  else:\n",
    "      print('Key is not present in the dictionary')\n",
    "is_key_present(5)\n",
    "print(\"\\n\")\n",
    "is_key_present(9)\n"
   ]
  },
  {
   "cell_type": "code",
   "execution_count": 41,
   "metadata": {},
   "outputs": [],
   "source": [
    "#done"
   ]
  }
 ],
 "metadata": {
  "kernelspec": {
   "display_name": "Python 3",
   "language": "python",
   "name": "python3"
  },
  "language_info": {
   "codemirror_mode": {
    "name": "ipython",
    "version": 3
   },
   "file_extension": ".py",
   "mimetype": "text/x-python",
   "name": "python",
   "nbconvert_exporter": "python",
   "pygments_lexer": "ipython3",
   "version": "3.7.3"
  }
 },
 "nbformat": 4,
 "nbformat_minor": 2
}
