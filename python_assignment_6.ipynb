{
 "cells": [
  {
   "cell_type": "markdown",
   "metadata": {},
   "source": [
    "# PYTHON ASSIGNMENT 6"
   ]
  },
  {
   "cell_type": "markdown",
   "metadata": {},
   "source": [
    "# QUESTION 1:\n",
    "Define Object Oriented Programming Language?"
   ]
  },
  {
   "cell_type": "markdown",
   "metadata": {},
   "source": [
    "ANSWER: Object-oriented language uses an object-oriented programming technique that binds related data and functions into an object and encourages reuse of these objects within the same and other programs."
   ]
  },
  {
   "cell_type": "markdown",
   "metadata": {},
   "source": [
    "# QUESTION 2:\n",
    "List down the Benefits of OOP?"
   ]
  },
  {
   "cell_type": "markdown",
   "metadata": {},
   "source": [
    "ANSWER:\n",
    "1. Re-usability\n",
    "2. Data Redundancy\n",
    "3. Code Maintenance\n",
    "4. Security\n",
    "5. Design Benefits\n",
    "6. Better productivity\n",
    "7. Easy troubleshooting\n",
    "8. Polymorphism Flexibility\n",
    "9. Problems solving\n",
    "\n",
    "Refrence : educba.com/advantages-of-oop/"
   ]
  },
  {
   "cell_type": "markdown",
   "metadata": {},
   "source": [
    "# QUESTION 3:\n",
    "Differentiate between function and method?"
   ]
  },
  {
   "cell_type": "markdown",
   "metadata": {},
   "source": [
    "ANSWER:\n",
    "\n",
    "-)FUNCTION is a piece of code that is called by name.\n",
    "  It can be passed data to operate on (i.e. the parameters)\n",
    "  and can optionally return data (the return value). \n",
    "  All data that is passed to a function is explicitly passed.\n",
    "\n",
    "-)METHOD is a piece of code that is called by a name that is associated       with an object. In most respects it is identical to a function except for   two key differences:\n",
    "\n",
    "1.  A method is implicitly passed the object on which it was called.\n",
    "2.  A method is able to operate on data that is contained within the class     (remembering that an object is an instance of a class - the class is       the definition, the object is an instance of that data)."
   ]
  },
  {
   "cell_type": "markdown",
   "metadata": {},
   "source": [
    "# Question 4:\n",
    "Define the following terms:\n",
    "1. Class\n",
    "2. Object\n",
    "3. Attribute\n",
    "4. Behavior"
   ]
  },
  {
   "cell_type": "markdown",
   "metadata": {},
   "source": [
    "ANSWER:\n",
    "\n",
    "1.CLASS:\n",
    "    \n",
    "A class is a code template for creating objects. Objects have       member variables and have behaviour associated with them. In python  a class is created by the keyword class.\n",
    "        \n",
    "2.OBJECT:\n",
    "    \n",
    "An instance of a class. This is the realized version of the class, where the class is manifested in the program.\n",
    "        \n",
    "3.ATTRIBUTE:\n",
    "    \n",
    "Class attributes are attributes which are owned by the class        itself. They will be shared by all the instances of the class.             Therefore they have the same value for every instance. We define           class attributes outside of all the methods, usually they are               placed at the top, right below the class header.\n",
    "\n",
    "OR\n",
    "\n",
    "Attributes are data stored inside a class or instance and represent         the state or quality of the class or instance.\n",
    "        \n",
    "4.BEHAVIOR:\n",
    "    \n",
    "A class's behavior determines how an instance of that class          operates; for example, how it will \"react\" if asked to do something         by another class or object or if its internal state changes.               Behavior is the only way objects can do anything to themselves or           have anything done to them.Behaviors are actions that can occur on         an object. \n",
    "        \n",
    "## IN_SHORT   \n",
    "A class describes the contents of the objects that belong to it: it describes an aggregate of data fields (called instance variables), and defines the operations (called methods). object: an object is an element (or instance) of a class; objects have the behaviors of their class."
   ]
  },
  {
   "cell_type": "markdown",
   "metadata": {},
   "source": [
    "# Question 5:\n",
    "Write a code in python in which create a class named it Car which\n",
    "have 5 attributes such like (model, color and name etc.) and 3\n",
    "methods. And create 5 object instance from that class."
   ]
  },
  {
   "cell_type": "code",
   "execution_count": 13,
   "metadata": {},
   "outputs": [
    {
     "name": "stdout",
     "output_type": "stream",
     "text": [
      "THE DETAIL OF CAR IS AS FOLLOWS\n",
      "\n",
      "Car Name: Mehran\n",
      "Company: Suzuki\n",
      "Model: 2019\n",
      "Color: White\n",
      "Transmission: Manual\n",
      "\n",
      "THE DETAIL OF CAR IS AS FOLLOWS\n",
      "\n",
      "Car Name: Corolla\n",
      "Company: Toyota\n",
      "Model: 2019\n",
      "Color: Grey\n",
      "Transmission: Automatic\n",
      "\n",
      "THE DETAIL OF CAR IS AS FOLLOWS\n",
      "\n",
      "Car Name: Alto\n",
      "Company: Suzuki\n",
      "Model: 2004\n",
      "Color: Silver\n",
      "Transmission: Manual\n",
      "\n",
      "THE DETAIL OF CAR IS AS FOLLOWS\n",
      "\n",
      "Car Name: Picanto\n",
      "Company: KIA\n",
      "Model: 2019\n",
      "Color: Black\n",
      "Transmission: Automatic\n",
      "\n",
      "THE DETAIL OF CAR IS AS FOLLOWS\n",
      "\n",
      "Car Name: Audi A1 Hatchback\n",
      "Company: AUDI\n",
      "Model: 2018\n",
      "Color: RED\n",
      "Transmission: Automatic\n",
      "\n"
     ]
    }
   ],
   "source": [
    "class Car(): ###CLASS\n",
    "    def __init__(self,name,company,model,color,transmission):\n",
    "        self.name = name\n",
    "        self.company = company\n",
    "        self.model = model\n",
    "        self.color = color\n",
    "        self.transmission = transmission\n",
    "        \n",
    "car1 = Car(\"Mehran\",\"Suzuki\",\"2019\",\"White\",\"Manual\")\n",
    "\n",
    "print (\"THE DETAIL OF CAR IS AS FOLLOWS\\n\\nCar Name: \"+car1.name+\"\\nCompany: \"+car1.company+\"\\nModel: \"+car1.model+\"\\nColor: \"+car1.color+\"\\nTransmission: \"+car1.transmission+\"\\n\")\n",
    "car2 = Car(\"Corolla\",\"Toyota\",\"2019\",\"Grey\",\"Automatic\")\n",
    "\n",
    "print (\"THE DETAIL OF CAR IS AS FOLLOWS\\n\\nCar Name: \"+car2.name+\"\\nCompany: \"+car2.company+\"\\nModel: \"+car2.model+\"\\nColor: \"+car2.color+\"\\nTransmission: \"+car2.transmission+\"\\n\")\n",
    "car3 = Car(\"Alto\",\"Suzuki\",\"2004\",\"Silver\",\"Manual\")\n",
    "\n",
    "print (\"THE DETAIL OF CAR IS AS FOLLOWS\\n\\nCar Name: \"+car3.name+\"\\nCompany: \"+car3.company+\"\\nModel: \"+car3.model+\"\\nColor: \"+car3.color+\"\\nTransmission: \"+car3.transmission+\"\\n\")\n",
    "car4 = Car(\"Picanto\",\"KIA\",\"2019\",\"Black\",\"Automatic\")\n",
    "\n",
    "print (\"THE DETAIL OF CAR IS AS FOLLOWS\\n\\nCar Name: \"+car4.name+\"\\nCompany: \"+car4.company+\"\\nModel: \"+car4.model+\"\\nColor: \"+car4.color+\"\\nTransmission: \"+car4.transmission+\"\\n\")\n",
    "car5 = Car(\"Audi A1 Hatchback\",\"AUDI\",\"2018\",\"RED\",\"Automatic\")\n",
    "\n",
    "print (\"THE DETAIL OF CAR IS AS FOLLOWS\\n\\nCar Name: \"+car5.name+\"\\nCompany: \"+car5.company+\"\\nModel: \"+car5.model+\"\\nColor: \"+car5.color+\"\\nTransmission: \"+car5.transmission+\"\\n\")"
   ]
  },
  {
   "cell_type": "code",
   "execution_count": 14,
   "metadata": {},
   "outputs": [],
   "source": [
    "#DONE"
   ]
  }
 ],
 "metadata": {
  "kernelspec": {
   "display_name": "Python 3",
   "language": "python",
   "name": "python3"
  },
  "language_info": {
   "codemirror_mode": {
    "name": "ipython",
    "version": 3
   },
   "file_extension": ".py",
   "mimetype": "text/x-python",
   "name": "python",
   "nbconvert_exporter": "python",
   "pygments_lexer": "ipython3",
   "version": "3.7.3"
  }
 },
 "nbformat": 4,
 "nbformat_minor": 2
}
