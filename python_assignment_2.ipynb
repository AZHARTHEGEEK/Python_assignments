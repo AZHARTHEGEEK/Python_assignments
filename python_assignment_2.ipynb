{
 "cells": [
  {
   "cell_type": "markdown",
   "metadata": {},
   "source": [
    "# PYTHON  ASSIGNMENT 2"
   ]
  },
  {
   "cell_type": "markdown",
   "metadata": {},
   "source": [
    "# 1 .Write a program which takes 5 inputs from user for different subject’smarks, total it and generate mark sheet using grades ?"
   ]
  },
  {
   "cell_type": "code",
   "execution_count": 8,
   "metadata": {},
   "outputs": [
    {
     "name": "stdout",
     "output_type": "stream",
     "text": [
      "Enter Marks of 1 Subject out of 100 :96\n",
      "Enter Marks of 2 Subject out of 100 :90\n",
      "Enter Marks of 3 Subject out of 100 :100\n",
      "Enter Marks of 4 Subject out of 100 :85\n",
      "Enter Marks of 5 Subject out of 100 :97\n",
      "\n",
      " Total Marks = 468\n",
      "\n",
      " Percentage = 93.60000000000001\n",
      "\n",
      " Grade A+\n"
     ]
    }
   ],
   "source": [
    "marks=[]\n",
    "total=0;\n",
    "for i in range (5):\n",
    "    x=int(input(\"Enter Marks of \"+str(i+1)+\" Subject out of 100 :\"))\n",
    "  \n",
    "    marks.append(x)\n",
    "    total+=x\n",
    "\n",
    "print(\"\\n Total Marks =\",total)  \n",
    "per=(total/500)*100\n",
    "print(\"\\n Percentage =\",per)\n",
    "if per>=90:\n",
    "    print(\"\\n Grade A+\")\n",
    "elif per>=80:\n",
    "    print(\"\\n Grade A\")\n",
    "elif per>=70:\n",
    "    print(\"\\n Grade B\")    \n",
    "elif per>=60:\n",
    "    print(\"\\n Grade C\")\n",
    "elif per>=50:\n",
    "    print(\"\\n Grade D\")\n",
    "else:\n",
    "    print(\"\\n Fail !\")"
   ]
  },
  {
   "cell_type": "markdown",
   "metadata": {},
   "source": [
    "# 2 .Write a program which take input from user and identify that the given number is even or odd?"
   ]
  },
  {
   "cell_type": "code",
   "execution_count": 16,
   "metadata": {},
   "outputs": [
    {
     "name": "stdout",
     "output_type": "stream",
     "text": [
      "Enter Whole Number : 69\n",
      "\n",
      " You Entered Odd Number\n"
     ]
    }
   ],
   "source": [
    "x=int(input(\"Enter Whole Number : \"))\n",
    "if x%2==0:\n",
    "    print(\"\\n You Entered Even Number\")\n",
    "else:\n",
    "    print(\"\\n You Entered Odd Number\")"
   ]
  },
  {
   "cell_type": "markdown",
   "metadata": {},
   "source": [
    "# 3.Write a program which print the length of the list?"
   ]
  },
  {
   "cell_type": "code",
   "execution_count": 17,
   "metadata": {},
   "outputs": [
    {
     "name": "stdout",
     "output_type": "stream",
     "text": [
      "10\n"
     ]
    }
   ],
   "source": [
    "list=[0,1,2,3,4,5,6,7,8,9]\n",
    "print(len(list))"
   ]
  },
  {
   "cell_type": "markdown",
   "metadata": {},
   "source": [
    "# 4. Write a Python program to sum all the numeric items in a list?"
   ]
  },
  {
   "cell_type": "code",
   "execution_count": 18,
   "metadata": {},
   "outputs": [
    {
     "name": "stdout",
     "output_type": "stream",
     "text": [
      "\n",
      " Sum of  all numeric items in a list is =  45\n"
     ]
    }
   ],
   "source": [
    "list=[0,1,2,3,4,5,6,7,8,9]\n",
    "x=len(list)\n",
    "Total=0\n",
    "for i in range (x):\n",
    "    Total+=list[i]\n",
    "print(\"\\n Sum of  all numeric items in a list is = \",Total)\n"
   ]
  },
  {
   "cell_type": "markdown",
   "metadata": {},
   "source": [
    "# 5. Write a Python program to get the largest number from a numeric list."
   ]
  },
  {
   "cell_type": "code",
   "execution_count": 19,
   "metadata": {},
   "outputs": [
    {
     "name": "stdout",
     "output_type": "stream",
     "text": [
      "9\n"
     ]
    }
   ],
   "source": [
    "list=[0,1,2,3,4,5,6,7,8,9]\n",
    "print(max(list))"
   ]
  },
  {
   "cell_type": "markdown",
   "metadata": {},
   "source": [
    "# 6.Take a list, say for example this one:\n",
    "a = [1, 1, 2, 3, 5, 8, 13, 21, 34, 55, 89]\n",
    "# and write a program that prints out all the elements of the list that are less than 5."
   ]
  },
  {
   "cell_type": "code",
   "execution_count": 20,
   "metadata": {},
   "outputs": [
    {
     "name": "stdout",
     "output_type": "stream",
     "text": [
      "1\n",
      "1\n",
      "2\n",
      "3\n"
     ]
    }
   ],
   "source": [
    "a =[1,1,2,3,5,8,13,21,34,55,89]\n",
    "x=len(a)\n",
    "for i in range(x):\n",
    "    if a[i]<5:\n",
    "        print(a[i])"
   ]
  },
  {
   "cell_type": "code",
   "execution_count": 21,
   "metadata": {},
   "outputs": [],
   "source": [
    "#DONE"
   ]
  }
 ],
 "metadata": {
  "kernelspec": {
   "display_name": "Python 3",
   "language": "python",
   "name": "python3"
  },
  "language_info": {
   "codemirror_mode": {
    "name": "ipython",
    "version": 3
   },
   "file_extension": ".py",
   "mimetype": "text/x-python",
   "name": "python",
   "nbconvert_exporter": "python",
   "pygments_lexer": "ipython3",
   "version": "3.7.3"
  }
 },
 "nbformat": 4,
 "nbformat_minor": 2
}
