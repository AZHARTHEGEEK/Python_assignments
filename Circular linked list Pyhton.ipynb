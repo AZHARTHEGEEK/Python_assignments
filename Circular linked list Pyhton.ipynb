{
 "cells": [
  {
   "cell_type": "code",
   "execution_count": 80,
   "id": "quick-litigation",
   "metadata": {},
   "outputs": [],
   "source": [
    "#Represents the node of list.    \n",
    "class Node:\n",
    "    def __init__(self,data):\n",
    "        self.data = data    \n",
    "        self.next = None\n",
    "\n",
    "class CreateList:\n",
    "     #Declaring head and tail pointer as null.    \n",
    "    def __init__(self):\n",
    "        self.head = Node(None)    \n",
    "        self.tail = Node(None)   \n",
    "        self.head.next = self.tail    \n",
    "        self.tail.next = self.head\n",
    "        #self.dataadd = dataadd\n",
    "    def add(self,data):    \n",
    "        newNode = Node(data)    \n",
    "        #Checks if the list is empty.    \n",
    "        if self.head.data is None:\n",
    "            \n",
    "        #If list is empty, both head and tail would point to new node.    \n",
    "            self.head = newNode\n",
    "            self.tail = newNode\n",
    "            newNode.next = self.head  \n",
    "        else:\n",
    "            #tail will point to new node.    \n",
    "            self.tail.next = newNode   \n",
    "            #New node will become new tail.    \n",
    "            self.tail = newNode    \n",
    "            #Since, it is circular linked list tail will point to head.    \n",
    "            self.tail.next = self.head  \n",
    "\n",
    "            \n",
    "    def search(self,element):\n",
    "        current = self.head;    \n",
    "        i = 1;    \n",
    "        flag = False;    \n",
    "        #Checks whether list is empty    \n",
    "        if(self.head == None):    \n",
    "            print(\"List is empty\");    \n",
    "        else:    \n",
    "            while(True):     \n",
    "                #Compares element to be found with each node present in the list    \n",
    "                if(current.data ==  element):    \n",
    "                    flag = True;    \n",
    "                    break;    \n",
    "                current = current.next;    \n",
    "                i = i + 1;    \n",
    "                if(current == self.head):    \n",
    "                    break;    \n",
    "            if(flag):    \n",
    "                print(\"Element is present in the list at the position :  \" + str(i));    \n",
    "            else:    \n",
    "                print(\"Element is not present in the list\");  \n",
    "    \n",
    "     \n",
    "  #Displays all the nodes in the list    \n",
    "    def display(self):\n",
    "        current = self.head\n",
    "        if self.head is None:\n",
    "            print(\"List is empty\")\n",
    "            return\n",
    "        else:    \n",
    "            print(\"\\nNodes of the circular linked list: \") \n",
    "            #Prints each node by incrementing pointer.    \n",
    "            print(current.data)  \n",
    "            while(current.next != self.head):\n",
    "                current = current.next    \n",
    "                print(current.data)\n",
    "\n",
    "    #This function will add to the end of the list.    \n",
    "    def addAtEnd(self,data):\n",
    "        newNode = Node(data);    \n",
    "        #Checks if the list is empty.    \n",
    "        if self.head.data is None:    \n",
    "            #If list is empty, both head and tail would point to new node.    \n",
    "            self.head = newNode;    \n",
    "            self.tail = newNode;    \n",
    "            newNode.next = self.head;    \n",
    "        else:    \n",
    "            #tail will point to new node.    \n",
    "            self.tail.next = newNode;    \n",
    "            #New node will become new tail.    \n",
    "            self.tail = newNode;    \n",
    "            #Since, it is circular linked list tail will point to head.    \n",
    "            self.tail.next = self.head;\n",
    "    def delete(self, value):\n",
    "        current = self.head\n",
    "        prev = current.next\n",
    "        while prev.next != self.head:\n",
    "            prev = prev.next\n",
    "        if current.data == value:\n",
    "            prev.next = current.next\n",
    "\n",
    "        current = current.next\n",
    "        prev = prev.next\n",
    "        while current.data != value and current != self.head:\n",
    "            current = current.next\n",
    "            prev = prev.next\n",
    "\n",
    "        if current.data == value:\n",
    "            prev.next = current.next\n"
   ]
  },
  {
   "cell_type": "code",
   "execution_count": 81,
   "id": "formal-championship",
   "metadata": {},
   "outputs": [
    {
     "name": "stdout",
     "output_type": "stream",
     "text": [
      "Enter The Data Below To Perform CircularLinkedList or Enter Exit to End\n",
      "Enter : Awais\n",
      "Enter : Ajmal\n",
      "Enter : Arham\n",
      "Enter : Aqib\n",
      "Enter : Manohar\n",
      "Enter : Apple\n",
      "Enter : 3\n",
      "Enter : 2.0\n",
      "Enter : exit\n",
      "\n",
      "Nodes of the circular linked list: \n",
      "Awais\n",
      "Ajmal\n",
      "Arham\n",
      "Aqib\n",
      "Manohar\n",
      "Apple\n",
      "3\n",
      "2.0\n"
     ]
    }
   ],
   "source": [
    "cl = CreateList(); \n",
    "i = True\n",
    "print(\"Enter The Data Below To Perform CircularLinkedList or Enter Exit to End\")\n",
    "while i == i:\n",
    "    a=input(\"Enter : \")\n",
    "    if a.lower() == \"exit\":\n",
    "        i=False\n",
    "        break  \n",
    "    else:\n",
    "        cl.add(a)\n",
    "        \n",
    "cl.display(); "
   ]
  },
  {
   "cell_type": "code",
   "execution_count": 82,
   "id": "signal-newcastle",
   "metadata": {},
   "outputs": [
    {
     "name": "stdout",
     "output_type": "stream",
     "text": [
      "Enter The Data To Find : Apple\n",
      "Element is present in the list at the position :  6\n"
     ]
    }
   ],
   "source": [
    "nsearch = input(\"Enter The Data To Find : \")\n",
    "cl.search(nsearch)"
   ]
  },
  {
   "cell_type": "code",
   "execution_count": 83,
   "id": "distinct-newcastle",
   "metadata": {
    "scrolled": true
   },
   "outputs": [
    {
     "name": "stdout",
     "output_type": "stream",
     "text": [
      "Enter The Number to add in A List\n",
      "Enter : Mazz\n",
      "\n",
      "Added Successfully\n",
      "\n",
      "Nodes of the circular linked list: \n",
      "Awais\n",
      "Ajmal\n",
      "Arham\n",
      "Aqib\n",
      "Manohar\n",
      "Apple\n",
      "3\n",
      "2.0\n",
      "Mazz\n"
     ]
    }
   ],
   "source": [
    "print(\"Enter The Number to add in A List\")\n",
    "class CircularLinkedList: \n",
    "    addinalist = input(\"Enter : \")\n",
    "    #Adding 1 to the list    \n",
    "    cl.addAtEnd(addinalist); \n",
    "    print(\"\\nAdded Successfully\")\n",
    "    cl.display();    "
   ]
  },
  {
   "cell_type": "code",
   "execution_count": 84,
   "id": "lucky-morgan",
   "metadata": {},
   "outputs": [
    {
     "name": "stdout",
     "output_type": "stream",
     "text": [
      "Enter The Data To Delete From List : 3\n"
     ]
    }
   ],
   "source": [
    "ndelete = input(\"Enter The Data To Delete From List : \")\n",
    "cl.delete(ndelete)\n"
   ]
  },
  {
   "cell_type": "code",
   "execution_count": 85,
   "id": "comparable-bruce",
   "metadata": {
    "scrolled": true
   },
   "outputs": [
    {
     "name": "stdout",
     "output_type": "stream",
     "text": [
      "\n",
      "After Deletion Process Data:\n",
      "\n",
      "\n",
      "Nodes of the circular linked list: \n",
      "Awais\n",
      "Ajmal\n",
      "Arham\n",
      "Aqib\n",
      "Manohar\n",
      "Apple\n",
      "2.0\n",
      "Mazz\n"
     ]
    }
   ],
   "source": [
    "print(\"\\nAfter Deletion Process Data:\\n\")\n",
    "cl.display();"
   ]
  },
  {
   "cell_type": "code",
   "execution_count": null,
   "id": "abroad-bottom",
   "metadata": {},
   "outputs": [],
   "source": [
    "#Done"
   ]
  }
 ],
 "metadata": {
  "kernelspec": {
   "display_name": "Python 3",
   "language": "python",
   "name": "python3"
  },
  "language_info": {
   "codemirror_mode": {
    "name": "ipython",
    "version": 3
   },
   "file_extension": ".py",
   "mimetype": "text/x-python",
   "name": "python",
   "nbconvert_exporter": "python",
   "pygments_lexer": "ipython3",
   "version": "3.8.8"
  }
 },
 "nbformat": 4,
 "nbformat_minor": 5
}
